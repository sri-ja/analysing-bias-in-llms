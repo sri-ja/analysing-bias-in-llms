{
 "cells": [
  {
   "cell_type": "code",
   "execution_count": 16,
   "metadata": {},
   "outputs": [],
   "source": [
    "import json\n",
    "import os\n",
    "import pandas as pd\n",
    "import plotly.express as px\n",
    "import plotly.graph_objects as go"
   ]
  },
  {
   "cell_type": "code",
   "execution_count": 11,
   "metadata": {},
   "outputs": [],
   "source": [
    "experiments_folder = '../data'\n",
    "utils_folder = '../../utils'\n",
    "results_folder = '../results'"
   ]
  },
  {
   "cell_type": "code",
   "execution_count": 6,
   "metadata": {},
   "outputs": [],
   "source": [
    "axes = ['region', 'religion']"
   ]
  },
  {
   "cell_type": "code",
   "execution_count": 7,
   "metadata": {},
   "outputs": [],
   "source": [
    "experiment_sets = {\n",
    "    'original': ['vanilla'],\n",
    "    'framing': ['neutral_framing', 'positive_framing', 'negative_framing'],\n",
    "    'temporal': ['adv_past', 'adv_present', 'adv_future'],\n",
    "    'perspective': ['adv_perspective_shift'],\n",
    "    'quantifier': ['adv_inc', 'adv_dec']\n",
    "}"
   ]
  },
  {
   "cell_type": "markdown",
   "metadata": {},
   "source": [
    "### Getting results for each experiment set and storing it"
   ]
  },
  {
   "cell_type": "markdown",
   "metadata": {},
   "source": [
    "Here I am making final json files for each experiment set. This is to ensure that it can be accessed easily later. \n",
    "\n",
    "_Note: I had earlier done this with the help of Gemini to get the markdown tables, after the initial preprocessing step which was completely same. Then I realised I an just leverage pandas and it's amazingness._"
   ]
  },
  {
   "cell_type": "code",
   "execution_count": 14,
   "metadata": {},
   "outputs": [],
   "source": [
    "for axis in axes:\n",
    "    for experiment_set in experiment_sets:\n",
    "        results = {}\n",
    "        for experiment in experiment_sets[experiment_set]:\n",
    "            data = json.load(open(f'{experiments_folder}/{experiment}/final_results/stereotypes/{axis}_tokens.json'))\n",
    "            for id_term in data:\n",
    "                if data[id_term]:\n",
    "                    if id_term not in results:\n",
    "                        results[id_term] = {}\n",
    "                    results[id_term][experiment] = []\n",
    "                    for subcategory in data[id_term]:\n",
    "                        results[id_term][experiment].extend(data[id_term][subcategory])\n",
    "        \n",
    "        results_df = pd.DataFrame.from_dict(results, orient='index')\n",
    "        results_df.index.name = 'id_term'\n",
    "        os.makedirs(f'{results_folder}/{axis}/stereotype_csv', exist_ok=True)\n",
    "        results_df.to_csv(f'{results_folder}/{axis}/stereotype_csv/{experiment_set}.csv')"
   ]
  },
  {
   "cell_type": "markdown",
   "metadata": {},
   "source": [
    "### Calculating cumulative \"stereotype scores\" and plotting graphs for each experiment set"
   ]
  },
  {
   "cell_type": "code",
   "execution_count": 18,
   "metadata": {},
   "outputs": [],
   "source": [
    "for axis in axes:\n",
    "    for experiment_set in experiment_sets:\n",
    "        results = {}\n",
    "        for experiment in experiment_sets[experiment_set]:\n",
    "            data = json.load(open(f'{experiments_folder}/{experiment}/final_results/stereotypes/{axis}_token_scores.json'))\n",
    "            for id_term in data:\n",
    "                if data[id_term]:\n",
    "                    if id_term not in results:\n",
    "                        results[id_term] = {}\n",
    "                    results[id_term][experiment] = 0\n",
    "                    for subcategory in data[id_term]:\n",
    "                        results[id_term][experiment] += data[id_term][subcategory]\n",
    "\n",
    "        results_df = pd.DataFrame.from_dict(results, orient='index')\n",
    "        results_df.index.name = 'id_term'\n",
    "        os.makedirs(f'{results_folder}/{axis}/stereotype_scores_csv', exist_ok=True)\n",
    "        results_df.to_csv(f'{results_folder}/{axis}/stereotype_scores_csv/{experiment_set}.csv')\n",
    "\n",
    "        # plotting the results\n",
    "        results_df = results_df.reset_index()\n",
    "        results_df = results_df.melt(id_vars='id_term', var_name='experiment', value_name='score')\n",
    "        fig = px.bar(results_df, x='id_term', y='score', color='experiment', barmode='group')\n",
    "        fig.update_layout(title=f'{axis} stereotypes scores for {experiment_set} experiments')\n",
    "        # save the plot\n",
    "        os.makedirs(f'{results_folder}/{axis}/stereotype_scores_plots', exist_ok=True)\n",
    "        fig.write_image(f'{results_folder}/{axis}/stereotype_scores_plots/{experiment_set}.png')\n",
    "        fig.write_html(f'{results_folder}/{axis}/stereotype_scores_plots/{experiment_set}.html')"
   ]
  }
 ],
 "metadata": {
  "kernelspec": {
   "display_name": "Python 3",
   "language": "python",
   "name": "python3"
  },
  "language_info": {
   "codemirror_mode": {
    "name": "ipython",
    "version": 3
   },
   "file_extension": ".py",
   "mimetype": "text/x-python",
   "name": "python",
   "nbconvert_exporter": "python",
   "pygments_lexer": "ipython3",
   "version": "3.10.12"
  }
 },
 "nbformat": 4,
 "nbformat_minor": 2
}
