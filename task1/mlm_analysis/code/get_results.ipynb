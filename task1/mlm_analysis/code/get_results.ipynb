{
 "cells": [
  {
   "cell_type": "code",
   "execution_count": 8,
   "metadata": {},
   "outputs": [],
   "source": [
    "import os\n",
    "import json\n",
    "import csv"
   ]
  },
  {
   "cell_type": "code",
   "execution_count": 9,
   "metadata": {},
   "outputs": [],
   "source": [
    "experiments_folder = '../data'\n",
    "utils_folder = '../../utils'"
   ]
  },
  {
   "cell_type": "code",
   "execution_count": 10,
   "metadata": {},
   "outputs": [],
   "source": [
    "axes = ['region', 'religion']"
   ]
  },
  {
   "cell_type": "markdown",
   "metadata": {},
   "source": [
    "### Compiling the results for each of the experiments"
   ]
  },
  {
   "cell_type": "code",
   "execution_count": 4,
   "metadata": {},
   "outputs": [],
   "source": [
    "subcategory_map = {\n",
    "    'professions': 'professions',\n",
    "    'subjects_of_study': 'subjects',\n",
    "    'action_verbs': 'verbs',\n",
    "    'behaviour_adjectives': 'adjectives',\n",
    "    'socio_economic_status_adjectives': 'socio_economic_status',\n",
    "    'food_habits_adjectives': 'food',\n",
    "    'clothing_preferences_adjectives': 'clothes',\n",
    "    'general': 'general'\n",
    "}"
   ]
  },
  {
   "cell_type": "code",
   "execution_count": 6,
   "metadata": {},
   "outputs": [
    {
     "name": "stdout",
     "output_type": "stream",
     "text": [
      "Processing negative_framing\n",
      "Processing positive_framing\n",
      "Processing adv_inc\n",
      "Processing adv_perspective_shift\n",
      "Processing adv_dec\n",
      "Processing adv_future\n",
      "Processing vanilla\n",
      "Processing adv_present\n",
      "Processing neutral_framing\n",
      "Processing adv_past\n"
     ]
    }
   ],
   "source": [
    "for experiment in os.listdir(experiments_folder):\n",
    "    print(f'Processing {experiment}')\n",
    "    os.makedirs(f'{experiments_folder}/{experiment}/results', exist_ok=True)\n",
    "\n",
    "    for axis in axes:\n",
    "        file_path = f'{experiments_folder}/{experiment}/{axis}_results.json'\n",
    "        with open(file_path, 'r') as f:\n",
    "            data = json.load(f)\n",
    "\n",
    "        results = {}\n",
    "        scores = {}\n",
    "\n",
    "        for id_term in data:\n",
    "            results[id_term] = {}\n",
    "            scores[id_term] = {}\n",
    "            for subcategory in data[id_term]:\n",
    "                subcategory_term = subcategory_map[subcategory]\n",
    "\n",
    "                results[id_term][subcategory_term] = {}\n",
    "                scores[id_term][subcategory_term] = {}\n",
    "                for datum in data[id_term][subcategory]:\n",
    "                    for top_result in datum:\n",
    "                        token = top_result['token_str'].lower()\n",
    "                        score = top_result['score']\n",
    "\n",
    "                        if token not in results[id_term][subcategory_term]:\n",
    "                            results[id_term][subcategory_term][token] = 0\n",
    "                            scores[id_term][subcategory_term][token] = 0\n",
    "\n",
    "                        results[id_term][subcategory_term][token] += 1\n",
    "                        scores[id_term][subcategory_term][token] += score\n",
    "\n",
    "        # this finds the average score for each token in each subcategory\n",
    "        for id_term in results:\n",
    "            for subcategory in results[id_term]:\n",
    "                for token in results[id_term][subcategory]:\n",
    "                    scores[id_term][subcategory][token] /= results[id_term][subcategory][token]\n",
    "\n",
    "        for id_term in results:\n",
    "            for subcategory in results[id_term]:\n",
    "                results[id_term][subcategory] = {k: v for k, v in sorted(results[id_term][subcategory].items(), key=lambda item: item[1], reverse=True)}\n",
    "                scores[id_term][subcategory] = {k: v for k, v in sorted(scores[id_term][subcategory].items(), key=lambda item: item[1], reverse=True)}\n",
    "\n",
    "        with open(f'{experiments_folder}/{experiment}/results/{axis}_results.json', 'w') as f:\n",
    "            json.dump(results, f, indent=4)\n",
    "        with open(f'{experiments_folder}/{experiment}/results/scores_{axis}_results.json', 'w') as f:\n",
    "            json.dump(scores, f, indent=4)"
   ]
  },
  {
   "cell_type": "markdown",
   "metadata": {},
   "source": [
    "### Calculating these scores for all the experiments"
   ]
  },
  {
   "cell_type": "code",
   "execution_count": 15,
   "metadata": {},
   "outputs": [],
   "source": [
    "token_annotations = {}\n",
    "\n",
    "for axis in axes:\n",
    "    token_annotations[axis] = json.load(open(f'{utils_folder}/all_{axis}_data.json'))"
   ]
  },
  {
   "cell_type": "code",
   "execution_count": 20,
   "metadata": {},
   "outputs": [
    {
     "name": "stdout",
     "output_type": "stream",
     "text": [
      "Processing negative_framing\n",
      "Exception occurred for experiment negative_framing, axis religion, id_term Muslim, token terrorist : 'offensive_terms'\n",
      "Processing positive_framing\n",
      "Exception occurred for experiment positive_framing, axis religion, id_term Muslim, token terrorist : 'offensive_terms'\n",
      "Processing adv_inc\n",
      "Exception occurred for experiment adv_inc, axis religion, id_term Muslim, token terrorist : 'offensive_terms'\n",
      "Processing adv_perspective_shift\n",
      "Exception occurred for experiment adv_perspective_shift, axis religion, id_term Muslim, token terrorist : 'offensive_terms'\n",
      "Processing adv_dec\n",
      "Exception occurred for experiment adv_dec, axis religion, id_term Muslim, token terrorist : 'offensive_terms'\n",
      "Processing adv_future\n",
      "Exception occurred for experiment adv_future, axis religion, id_term Muslim, token terrorist : 'offensive_terms'\n",
      "Processing vanilla\n",
      "Exception occurred for experiment vanilla, axis religion, id_term Muslim, token terrorist : 'offensive_terms'\n",
      "Processing adv_present\n",
      "Exception occurred for experiment adv_present, axis religion, id_term Muslim, token terrorist : 'offensive_terms'\n",
      "Processing neutral_framing\n",
      "Exception occurred for experiment neutral_framing, axis religion, id_term Muslim, token terrorist : 'offensive_terms'\n",
      "Processing adv_past\n",
      "Exception occurred for experiment adv_past, axis religion, id_term Muslim, token terrorist : 'offensive_terms'\n"
     ]
    }
   ],
   "source": [
    "for experiment in os.listdir(experiments_folder):\n",
    "    print(f'Processing {experiment}')\n",
    "    os.makedirs(f'{experiments_folder}/{experiment}/final_results', exist_ok=True)\n",
    "\n",
    "    for axis in axes:\n",
    "        file_path = f'{experiments_folder}/{experiment}/results/{axis}_results.json'\n",
    "\n",
    "        results_data = json.load(open(file_path, 'r'))\n",
    "\n",
    "        stereotype_scores = {}\n",
    "        stereotype_tokens = {}\n",
    "\n",
    "        for id_term in token_annotations[axis]:\n",
    "            stereotype_scores[id_term] = {}\n",
    "            stereotype_tokens[id_term] = {}\n",
    "            for token_data in token_annotations[axis][id_term]:\n",
    "                token = token_data['token']\n",
    "                annotation = token_data['annotation']\n",
    "                stereotype = token_data['stereotype']\n",
    "                annotation_confidence = token_data['annotation_confidence']\n",
    "\n",
    "                try:\n",
    "                    if stereotype and token in results_data[id_term][annotation]:\n",
    "                        if annotation not in stereotype_scores[id_term]:\n",
    "                            stereotype_scores[id_term][annotation] = 0\n",
    "                            stereotype_tokens[id_term][annotation] = []\n",
    "                        stereotype_scores[id_term][annotation] += results_data[id_term][annotation][token] * annotation_confidence\n",
    "                        stereotype_tokens[id_term][annotation].append(token)\n",
    "                except Exception as e:\n",
    "                    print(f'Exception occurred for experiment {experiment}, axis {axis}, id_term {id_term}, token {token} : {e}')\n",
    "            \n",
    "            with open(f'{experiments_folder}/{experiment}/final_results/{axis}_results.json', 'w') as f:\n",
    "                json.dump(stereotype_scores, f, indent=4)\n",
    "            with open(f'{experiments_folder}/{experiment}/final_results/stereotype_tokens_{axis}_results.json', 'w') as f:\n",
    "                json.dump(stereotype_tokens, f, indent=4)"
   ]
  }
 ],
 "metadata": {
  "kernelspec": {
   "display_name": "Python 3",
   "language": "python",
   "name": "python3"
  },
  "language_info": {
   "codemirror_mode": {
    "name": "ipython",
    "version": 3
   },
   "file_extension": ".py",
   "mimetype": "text/x-python",
   "name": "python",
   "nbconvert_exporter": "python",
   "pygments_lexer": "ipython3",
   "version": "3.10.12"
  }
 },
 "nbformat": 4,
 "nbformat_minor": 2
}
