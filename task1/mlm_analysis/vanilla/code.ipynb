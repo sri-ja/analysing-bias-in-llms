{
 "cells": [
  {
   "cell_type": "markdown",
   "metadata": {},
   "source": [
    "# Preprocessing and creating the dataset"
   ]
  },
  {
   "cell_type": "code",
   "execution_count": 9,
   "metadata": {},
   "outputs": [],
   "source": [
    "import json"
   ]
  },
  {
   "cell_type": "code",
   "execution_count": 14,
   "metadata": {},
   "outputs": [],
   "source": [
    "region_idterms = []\n",
    "\n",
    "with open('../nlp-fairness-for-india/region_idterms.tsv', 'r') as f:\n",
    "    for line in f:\n",
    "        region_idterms.append(line.strip())\n",
    "    region_idterms = region_idterms[1:]\n",
    "    # capitalizing the first letter of each term\n",
    "    region_idterms = [term[0].upper() + term[1:] for term in region_idterms]"
   ]
  },
  {
   "cell_type": "code",
   "execution_count": 15,
   "metadata": {},
   "outputs": [],
   "source": [
    "religion_idterms = []\n",
    "\n",
    "with open('../nlp-fairness-for-india/religion_idterms.tsv', 'r') as f:\n",
    "    for line in f:\n",
    "        religion_idterms.append(line.strip())\n",
    "    religion_idterms = religion_idterms[1:]\n",
    "    # capitalizing the first letter of each term\n",
    "    religion_idterms = [term[0].upper() + term[1:] for term in religion_idterms]"
   ]
  },
  {
   "cell_type": "code",
   "execution_count": null,
   "metadata": {},
   "outputs": [],
   "source": [
    "type = 'vanilla'"
   ]
  },
  {
   "cell_type": "code",
   "execution_count": 4,
   "metadata": {},
   "outputs": [],
   "source": [
    "prompts = json.load(open(f'{type}/prompts.json')) "
   ]
  },
  {
   "cell_type": "code",
   "execution_count": 16,
   "metadata": {},
   "outputs": [],
   "source": [
    "region_dataset = {}\n",
    "\n",
    "for region in region_idterms:\n",
    "    region_dataset[region] = {}\n",
    "    for prompt_category in prompts:\n",
    "        region_dataset[region][prompt_category] = []\n",
    "        for prompt in prompts[prompt_category]:\n",
    "            region_dataset[region][prompt_category].append(prompt.replace('[IDENTITY_TERM]', region))"
   ]
  },
  {
   "cell_type": "code",
   "execution_count": 18,
   "metadata": {},
   "outputs": [],
   "source": [
    "religion_dataset = {}\n",
    "\n",
    "for religion in religion_idterms:\n",
    "    religion_dataset[religion] = {}\n",
    "    for prompt_category in prompts:\n",
    "        religion_dataset[religion][prompt_category] = []\n",
    "        for prompt in prompts[prompt_category]:\n",
    "            religion_dataset[religion][prompt_category].append(prompt.replace('[IDENTITY_TERM]', religion))"
   ]
  },
  {
   "cell_type": "code",
   "execution_count": 19,
   "metadata": {},
   "outputs": [],
   "source": [
    "# save the datasets\n",
    "json.dump(region_dataset, open(f'{type}/region_dataset.json', 'w'))\n",
    "json.dump(religion_dataset, open(f'{type}/religion_dataset.json', 'w'))"
   ]
  },
  {
   "cell_type": "markdown",
   "metadata": {},
   "source": [
    "# Running the masked language model and storing results"
   ]
  },
  {
   "cell_type": "code",
   "execution_count": 20,
   "metadata": {},
   "outputs": [],
   "source": [
    "import os\n",
    "from transformers import pipeline\n",
    "from tqdm import tqdm"
   ]
  },
  {
   "cell_type": "code",
   "execution_count": 21,
   "metadata": {},
   "outputs": [],
   "source": [
    "model_name = 'google/muril-base-cased'"
   ]
  },
  {
   "cell_type": "code",
   "execution_count": null,
   "metadata": {},
   "outputs": [],
   "source": [
    "mask_fill = pipeline('fill-mask', model=model_name)"
   ]
  },
  {
   "cell_type": "code",
   "execution_count": null,
   "metadata": {},
   "outputs": [],
   "source": [
    "test_sentence = 'The [MASK] is a beautiful place.'\n",
    "mask_fill(test_sentence)"
   ]
  },
  {
   "cell_type": "code",
   "execution_count": null,
   "metadata": {},
   "outputs": [],
   "source": [
    "region_dataset = json.load(open(f'{type}/region_dataset.json'))\n",
    "region_results = {}\n",
    "\n",
    "for region in tqdm(region_dataset, desc='Regions'):\n",
    "    region_results[region] = {}\n",
    "    for prompt_category in region_dataset[region]:\n",
    "        region_results[region][prompt_category] = []\n",
    "        for prompt in region_dataset[region][prompt_category]:\n",
    "            result = mask_fill(prompt)\n",
    "            region_results[region][prompt_category].append(result)\n",
    "\n",
    "json.dump(region_results, open('region_results.json', 'w'))"
   ]
  },
  {
   "cell_type": "code",
   "execution_count": null,
   "metadata": {},
   "outputs": [],
   "source": [
    "religion_dataset = json.load(open(f'{type}/religion_dataset.json'))\n",
    "religion_results = {}\n",
    "\n",
    "for religion in tqdm(religion_dataset, desc='Religions'):\n",
    "    religion_results[religion] = {}\n",
    "    for prompt_category in religion_dataset[religion]:\n",
    "        religion_results[religion][prompt_category] = []\n",
    "        for prompt in religion_dataset[religion][prompt_category]:\n",
    "            result = mask_fill(prompt)\n",
    "            religion_results[religion][prompt_category].append(result)\n",
    "\n",
    "json.dump(religion_results, open('religion_results.json', 'w'))"
   ]
  }
 ],
 "metadata": {
  "kernelspec": {
   "display_name": "base",
   "language": "python",
   "name": "python3"
  },
  "language_info": {
   "codemirror_mode": {
    "name": "ipython",
    "version": 3
   },
   "file_extension": ".py",
   "mimetype": "text/x-python",
   "name": "python",
   "nbconvert_exporter": "python",
   "pygments_lexer": "ipython3",
   "version": "3.10.13"
  }
 },
 "nbformat": 4,
 "nbformat_minor": 2
}
