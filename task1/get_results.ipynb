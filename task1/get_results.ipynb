{
 "cells": [
  {
   "cell_type": "code",
   "execution_count": 8,
   "metadata": {},
   "outputs": [],
   "source": [
    "import os\n",
    "import json"
   ]
  },
  {
   "cell_type": "markdown",
   "metadata": {},
   "source": [
    "# Rough ground for testing things out"
   ]
  },
  {
   "cell_type": "code",
   "execution_count": 9,
   "metadata": {},
   "outputs": [],
   "source": [
    "test_file = './mlm_analysis/adv_dec/region_results.json'"
   ]
  },
  {
   "cell_type": "code",
   "execution_count": 10,
   "metadata": {},
   "outputs": [],
   "source": [
    "with open(test_file, 'r') as f:\n",
    "    data = json.load(f)"
   ]
  },
  {
   "cell_type": "code",
   "execution_count": 11,
   "metadata": {},
   "outputs": [],
   "source": [
    "results = {}\n",
    "scores = {}"
   ]
  },
  {
   "cell_type": "code",
   "execution_count": 12,
   "metadata": {},
   "outputs": [],
   "source": [
    "for identity_term in data:\n",
    "    results[identity_term] = {}\n",
    "    scores[identity_term] = {}\n",
    "    for subcategory in data[identity_term]:\n",
    "        results[identity_term][subcategory] = {}\n",
    "        scores[identity_term][subcategory] = {}\n",
    "        for datum in data[identity_term][subcategory]:\n",
    "            for top_results in datum:\n",
    "                token = top_results['token_str']\n",
    "                score = top_results['score']\n",
    "                if token not in results[identity_term][subcategory]:\n",
    "                    results[identity_term][subcategory][token] = 0\n",
    "                    scores[identity_term][subcategory][token] = 0\n",
    "\n",
    "                results[identity_term][subcategory][token] += 1\n",
    "                scores[identity_term][subcategory][token] += score"
   ]
  },
  {
   "cell_type": "code",
   "execution_count": 13,
   "metadata": {},
   "outputs": [],
   "source": [
    "# sort results by highest occurence\n",
    "for identity_term in results:\n",
    "    for subcategory in results[identity_term]:\n",
    "        results[identity_term][subcategory] = {k: v for k, v in sorted(results[identity_term][subcategory].items(), key=lambda item: item[1], reverse=True)}\n",
    "        scores[identity_term][subcategory] = {k: v for k, v in sorted(scores[identity_term][subcategory].items(), key=lambda item: item[1], reverse=True)}"
   ]
  },
  {
   "cell_type": "markdown",
   "metadata": {},
   "source": [
    "# Compiling the results for each of the experiments"
   ]
  },
  {
   "cell_type": "code",
   "execution_count": 18,
   "metadata": {},
   "outputs": [],
   "source": [
    "subcategory_map = {\n",
    "    'professions': 'professions',\n",
    "    'subjects_of_study': 'subjects',\n",
    "    'action_verbs': 'verbs',\n",
    "    'behaviour_adjectives': 'adjectives',\n",
    "    'socio_economic_status_adjectives': 'socio_economic_status',\n",
    "    'food_habits_adjectives': 'food',\n",
    "    'clothing_preferences_adjectives': 'clothes',\n",
    "    'general': 'general'\n",
    "}"
   ]
  },
  {
   "cell_type": "code",
   "execution_count": 20,
   "metadata": {},
   "outputs": [
    {
     "name": "stdout",
     "output_type": "stream",
     "text": [
      "negative_framing\n",
      "positive_framing\n",
      "adv_inc\n",
      "adv_perspective_shift\n",
      "adv_dec\n",
      "adv_future\n",
      "vanilla\n",
      "combined\n",
      "adv_present\n",
      "neutral_framing\n",
      "adv_past\n"
     ]
    }
   ],
   "source": [
    "for folder in os.listdir('./mlm_analysis'):\n",
    "    print(folder)\n",
    "    os.makedirs(f'./mlm_analysis/{folder}/results', exist_ok=True)\n",
    "\n",
    "    if 'combined' not in folder:\n",
    "        files_list = ['region_results.json', 'religion_results.json']\n",
    "        for file in files_list:\n",
    "            file_path = os.path.join('./mlm_analysis', folder, file)\n",
    "            with open(file_path, 'r') as f:\n",
    "                data = json.load(f)\n",
    "\n",
    "            results = {}\n",
    "            scores = {}\n",
    "\n",
    "            for identity_term in data:\n",
    "                results[identity_term] = {}\n",
    "                scores[identity_term] = {}\n",
    "                for subcategory in data[identity_term]:\n",
    "                    subcategory_term = subcategory_map[subcategory]\n",
    "\n",
    "                    results[identity_term][subcategory_term] = {}\n",
    "                    scores[identity_term][subcategory_term] = {}\n",
    "                    for datum in data[identity_term][subcategory]:\n",
    "                        for top_results in datum:\n",
    "                            try:\n",
    "                                token = top_results['token_str'].lower()\n",
    "                                score = top_results['score']\n",
    "                            except:\n",
    "                                print(datum)\n",
    "\n",
    "                            if token not in results[identity_term][subcategory_term]:\n",
    "                                results[identity_term][subcategory_term][token] = 0\n",
    "                                scores[identity_term][subcategory_term][token] = 0\n",
    "\n",
    "                            results[identity_term][subcategory_term][token] += 1\n",
    "                            scores[identity_term][subcategory_term][token] += score\n",
    "\n",
    "            # sort results by highest occurence\n",
    "            for identity_term in results:\n",
    "                for subcategory in results[identity_term]:\n",
    "                    results[identity_term][subcategory] = {k: v for k, v in sorted(results[identity_term][subcategory].items(), key=lambda item: item[1], reverse=True)}\n",
    "                    scores[identity_term][subcategory] = {k: v for k, v in sorted(scores[identity_term][subcategory].items(), key=lambda item: item[1], reverse=True)}\n",
    "\n",
    "            with open(f'./mlm_analysis/{folder}/results/{file}', 'w') as f:\n",
    "                json.dump(results, f, indent=4)\n",
    "            with open(f'./mlm_analysis/{folder}/results/scores_{file}', 'w') as f:\n",
    "                json.dump(scores, f, indent=4)\n",
    "    else:\n",
    "        files_list = 'combined_results.json'\n",
    "        file_path = os.path.join('./mlm_analysis', folder, files_list)\n",
    "        with open(file_path, 'r') as f:\n",
    "            data = json.load(f)\n",
    "\n",
    "        results = {}\n",
    "        scores = {}\n",
    "\n",
    "        for identity_term_1 in data:\n",
    "            results[identity_term_1] = {}\n",
    "            scores[identity_term_1] = {}\n",
    "            for identity_term_2 in data[identity_term_1]:\n",
    "                results[identity_term_1][identity_term_2] = {}\n",
    "                scores[identity_term_1][identity_term_2] = {}\n",
    "                for subcategory in data[identity_term_1][identity_term_2]:\n",
    "                    subcategory_term = subcategory_map[subcategory]\n",
    "                    results[identity_term_1][identity_term_2][subcategory_term] = {}\n",
    "                    scores[identity_term_1][identity_term_2][subcategory_term] = {}\n",
    "                    for datum in data[identity_term_1][identity_term_2][subcategory]:\n",
    "                        for top_results in datum:\n",
    "                            token = top_results['token_str']\n",
    "                            score = top_results['score']\n",
    "                            if token not in results[identity_term_1][identity_term_2][subcategory_term]:\n",
    "                                results[identity_term_1][identity_term_2][subcategory_term][token] = 0\n",
    "                                scores[identity_term_1][identity_term_2][subcategory_term][token] = 0\n",
    "\n",
    "                            results[identity_term_1][identity_term_2][subcategory_term][token] += 1\n",
    "                            scores[identity_term_1][identity_term_2][subcategory_term][token] += score\n",
    "\n",
    "        # sort results by highest occurence\n",
    "        for identity_term_1 in results:\n",
    "            for identity_term_2 in results[identity_term_1]:\n",
    "                for subcategory in results[identity_term_1][identity_term_2]:\n",
    "                    results[identity_term_1][identity_term_2][subcategory] = {k: v for k, v in sorted(results[identity_term_1][identity_term_2][subcategory].items(), key=lambda item: item[1], reverse=True)}\n",
    "                    scores[identity_term_1][identity_term_2][subcategory] = {k: v for k, v in sorted(scores[identity_term_1][identity_term_2][subcategory].items(), key=lambda item: item[1], reverse=True)}\n",
    "\n",
    "        with open(f'./mlm_analysis/{folder}/results/{files_list}', 'w') as f:\n",
    "            json.dump(results, f, indent=4)\n",
    "        with open(f'./mlm_analysis/{folder}/results/scores_{files_list}', 'w') as f:\n",
    "            json.dump(scores, f, indent=4)"
   ]
  }
 ],
 "metadata": {
  "kernelspec": {
   "display_name": "Python 3",
   "language": "python",
   "name": "python3"
  },
  "language_info": {
   "codemirror_mode": {
    "name": "ipython",
    "version": 3
   },
   "file_extension": ".py",
   "mimetype": "text/x-python",
   "name": "python",
   "nbconvert_exporter": "python",
   "pygments_lexer": "ipython3",
   "version": "3.10.12"
  }
 },
 "nbformat": 4,
 "nbformat_minor": 2
}
